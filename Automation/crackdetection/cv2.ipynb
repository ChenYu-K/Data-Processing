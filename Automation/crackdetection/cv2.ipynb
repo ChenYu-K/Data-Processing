{
  "nbformat": 4,
  "nbformat_minor": 0,
  "metadata": {
    "colab": {
      "name": "cv2.ipynb",
      "provenance": [],
      "collapsed_sections": [],
      "authorship_tag": "ABX9TyPs6MhXTZPC+xoqDnUiqXHW",
      "include_colab_link": true
    },
    "kernelspec": {
      "name": "python3",
      "display_name": "Python 3"
    },
    "language_info": {
      "name": "python"
    }
  },
  "cells": [
    {
      "cell_type": "markdown",
      "metadata": {
        "id": "view-in-github",
        "colab_type": "text"
      },
      "source": [
        "<a href=\"https://colab.research.google.com/github/ChenYu-K/Abaqus/blob/main/Automation/crackdetection/cv2.ipynb\" target=\"_parent\"><img src=\"https://colab.research.google.com/assets/colab-badge.svg\" alt=\"Open In Colab\"/></a>"
      ]
    },
    {
      "cell_type": "code",
      "metadata": {
        "id": "_oW_kVVrubSb"
      },
      "source": [
        "import cv2\n",
        "import math\n",
        "import numpy as np\n",
        "import scipy.ndimage\n",
        "\n",
        "def orientated_non_max_suppression(mag, ang):\n",
        "    ang_quant = np.round(ang / (np.pi/4)) % 4\n",
        "    winE = np.array([[0, 0, 0],[1, 1, 1], [0, 0, 0]])\n",
        "    winSE = np.array([[1, 0, 0], [0, 1, 0], [0, 0, 1]])\n",
        "    winS = np.array([[0, 1, 0], [0, 1, 0], [0, 1, 0]])\n",
        "    winSW = np.array([[0, 0, 1], [0, 1, 0], [1, 0, 0]])\n",
        "\n",
        "    magE = non_max_suppression(mag, winE)\n",
        "    magSE = non_max_suppression(mag, winSE)\n",
        "    magS = non_max_suppression(mag, winS)\n",
        "    magSW = non_max_suppression(mag, winSW)\n",
        "\n",
        "    mag[ang_quant == 0] = magE[ang_quant == 0]\n",
        "    mag[ang_quant == 1] = magSE[ang_quant == 1]\n",
        "    mag[ang_quant == 2] = magS[ang_quant == 2]\n",
        "    mag[ang_quant == 3] = magSW[ang_quant == 3]\n",
        "    return mag\n",
        "\n",
        "def non_max_suppression(data, win):\n",
        "    data_max = scipy.ndimage.filters.maximum_filter(data, footprint=win, mode='constant')\n",
        "    data_max[data != data_max] = 0\n",
        "    return data_max\n",
        "\n",
        "# start calulcation\n",
        "gray_image = cv2.imread(r'rr1.png', 0)\n",
        "\n",
        "with_nmsup = True #apply non-maximal suppression\n",
        "fudgefactor = 1.3 #with this threshold you can play a little bit\n",
        "sigma = 21 #for Gaussian Kernel\n",
        "kernel = 2*math.ceil(2*sigma)+1 #Kernel size\n",
        "\n",
        "gray_image = gray_image/255.0\n",
        "blur = cv2.GaussianBlur(gray_image, (kernel, kernel), sigma)\n",
        "gray_image = cv2.subtract(gray_image, blur)\n",
        "\n",
        "# compute sobel response\n",
        "sobelx = cv2.Sobel(gray_image, cv2.CV_64F, 1, 0, ksize=3)\n",
        "sobely = cv2.Sobel(gray_image, cv2.CV_64F, 0, 1, ksize=3)\n",
        "mag = np.hypot(sobelx, sobely)\n",
        "ang = np.arctan2(sobely, sobelx)\n",
        "\n",
        "# threshold\n",
        "threshold = 4 * fudgefactor * np.mean(mag)\n",
        "mag[mag < threshold] = 0\n",
        "\n",
        "#either get edges directly\n",
        "if with_nmsup is False:\n",
        "    mag = cv2.normalize(mag, 0, 255, cv2.NORM_MINMAX)\n",
        "    kernel = np.ones((5,5),np.uint8)\n",
        "    result = cv2.morphologyEx(mag, cv2.MORPH_CLOSE, kernel)\n",
        "    cv2.imshow('im', result)\n",
        "    cv2.waitKey()\n",
        "\n",
        "#or apply a non-maximal suppression\n",
        "else:\n",
        "\n",
        "    # non-maximal suppression\n",
        "    mag = orientated_non_max_suppression(mag, ang)\n",
        "    # create mask\n",
        "    mag[mag > 0] = 255\n",
        "    mag = mag.astype(np.uint8)\n",
        "\n",
        "    kernel = np.ones((5,5),np.uint8)\n",
        "    result = cv2.morphologyEx(mag, cv2.MORPH_CLOSE, kernel)\n",
        "\n",
        "    #cv2.imshow('im', result)\n",
        "    cv2.imwrite(\"result.png\", result)\n",
        "    cv2.waitKey()"
      ],
      "execution_count": null,
      "outputs": []
    }
  ]
}
