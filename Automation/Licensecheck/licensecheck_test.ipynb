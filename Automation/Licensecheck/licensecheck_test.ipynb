{
 "cells": [
  {
   "cell_type": "code",
   "execution_count": 1,
   "metadata": {
    "collapsed": true,
    "pycharm": {
     "name": "#%%\n"
    }
   },
   "outputs": [],
   "source": [
    "# *-* encoding: utf-8 *-*\n",
    "import os\n",
    "import chardet\n",
    "import subprocess\n",
    "import unicodecsv as csv\n",
    "import numpy as np\n",
    "import pandas as pd\n",
    "import re\n",
    "from pandas.plotting import table\n",
    "import matplotlib.pyplot as plt\n",
    "import dataframe_image as dfi\n",
    "import time"
   ]
  },
  {
   "cell_type": "code",
   "execution_count": 2,
   "metadata": {
    "collapsed": false,
    "pycharm": {
     "is_executing": true,
     "name": "#%%\n"
    }
   },
   "outputs": [],
   "source": [
    "nowis = time.strftime('%Y-%m-%d %H:%M:%S', time.localtime(time.time()))  # nowtime\n",
    "\n",
    "obj = subprocess.Popen([\"cmd\"], stdin=subprocess.PIPE, stdout=subprocess.PIPE, stderr=subprocess.PIPE,\n",
    "                       universal_newlines=True, encoding=\"utf-8\")\n",
    "obj.stdin.write(\"abaqus licensing dslsstat -usage\")\n",
    "obj.stdin.write(\"\\n\")\n",
    "obj.stdin.close()\n",
    "\n",
    "cmd_out = obj.stdout.read()\n",
    "obj.stdout.close()\n",
    "cmd_error = obj.stderr.read()\n",
    "obj.stderr.close()\n",
    "\n",
    "cmd_out2 = cmd_out.splitlines()\n",
    "# cmd_out2 = cmd_out2.split('|')\n",
    "\n",
    "out3 = np.array(cmd_out2).T"
   ]
  },
  {
   "cell_type": "code",
   "execution_count": 3,
   "metadata": {
    "collapsed": false,
    "pycharm": {
     "is_executing": true,
     "name": "#%%\n"
    }
   },
   "outputs": [],
   "source": [
    "df = pd.DataFrame(out3)\n",
    "df = df[0].str.split('|', expand=True)\n",
    "df1 = df[0].str.split(',', expand=True)\n",
    "df1[['a', 'b', 'c', 'day', 'Start_time', 'f', 'License', 'h']] = df1[1].str.split('\\s', expand=True)\n",
    "# df=pd.concat([df1,df2], axis=1)\n",
    "df = df1.drop(df1.tail(2).index)  # 从末尾からn行を消す"
   ]
  },
  {
   "cell_type": "code",
   "execution_count": 18,
   "metadata": {
    "collapsed": false,
    "pycharm": {
     "name": "#%%\n"
    }
   },
   "outputs": [
    {
     "data": {
      "text/plain": [
       "False"
      ]
     },
     "execution_count": 18,
     "metadata": {},
     "output_type": "execute_result"
    }
   ],
   "source": [
    "df['License'].isnull()\n",
    "\n",
    "df1=df.iloc[1:10,:]\n",
    "df['License'].isnull().all()\n"
   ]
  },
  {
   "cell_type": "code",
   "execution_count": 20,
   "metadata": {},
   "outputs": [],
   "source": []
  }
 ],
 "metadata": {
  "kernelspec": {
   "display_name": "Python 3.10.4 ('pytorch-cy1')",
   "language": "python",
   "name": "python3"
  },
  "language_info": {
   "codemirror_mode": {
    "name": "ipython",
    "version": 3
   },
   "file_extension": ".py",
   "mimetype": "text/x-python",
   "name": "python",
   "nbconvert_exporter": "python",
   "pygments_lexer": "ipython3",
   "version": "3.10.4"
  },
  "vscode": {
   "interpreter": {
    "hash": "0ec9779f063a942372247cf944fedbbc91251caa904973c75af8af67dbd8132d"
   }
  }
 },
 "nbformat": 4,
 "nbformat_minor": 0
}
