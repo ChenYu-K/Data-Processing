{
 "cells": [
  {
   "cell_type": "code",
   "execution_count": 9,
   "metadata": {},
   "outputs": [
    {
     "name": "stdout",
     "output_type": "stream",
     "text": [
      "image_files: [[[146 150 151]\n",
      "  [143 148 147]\n",
      "  [146 151 150]\n",
      "  ...\n",
      "  [220 218 217]\n",
      "  [220 218 217]\n",
      "  [218 218 218]]\n",
      "\n",
      " [[145 149 150]\n",
      "  [147 152 151]\n",
      "  [146 150 151]\n",
      "  ...\n",
      "  [220 218 217]\n",
      "  [220 218 217]\n",
      "  [218 218 218]]\n",
      "\n",
      " [[146 151 150]\n",
      "  [145 150 149]\n",
      "  [147 149 150]\n",
      "  ...\n",
      "  [218 219 217]\n",
      "  [220 218 217]\n",
      "  [220 218 217]]\n",
      "\n",
      " ...\n",
      "\n",
      " [[205 203 202]\n",
      "  [204 203 199]\n",
      "  [205 204 200]\n",
      "  ...\n",
      "  [200 200 200]\n",
      "  [201 201 201]\n",
      "  [201 201 201]]\n",
      "\n",
      " [[204 202 201]\n",
      "  [205 204 200]\n",
      "  [205 204 200]\n",
      "  ...\n",
      "  [200 200 200]\n",
      "  [200 200 200]\n",
      "  [201 201 201]]\n",
      "\n",
      " [[206 202 201]\n",
      "  [204 203 199]\n",
      "  [206 202 201]\n",
      "  ...\n",
      "  [199 199 199]\n",
      "  [201 201 201]\n",
      "  [201 201 201]]]\n"
     ]
    }
   ],
   "source": [
    "import cv2\n",
    "import os\n",
    "\n",
    "# 指定图像文件路径\n",
    "image_dir = '.'\n",
    "image_files = ['DSC6984.JPG', 'DSC6984.JPG', 'DSC6984.JPG']\n",
    "img=cv2.imread(image_files[0])\n",
    "print('image_files:', img)"
   ]
  },
  {
   "cell_type": "code",
   "execution_count": 19,
   "metadata": {},
   "outputs": [
    {
     "name": "stdout",
     "output_type": "stream",
     "text": [
      "视频已生成并保存为output_video.mp4\n"
     ]
    }
   ],
   "source": [
    "import cv2\n",
    "import numpy as np\n",
    "\n",
    "# 读取图片\n",
    "img1 = cv2.imread('DSC6984.jpg')\n",
    "img2 = cv2.imread('DSC6986.jpg')\n",
    "img3 = cv2.imread('DSC6987.jpg')\n",
    "\n",
    "# 获取图片尺寸\n",
    "height, width, layers = img1.shape\n",
    "\n",
    "# 定义视频的编码器及相关参数\n",
    "fourcc = cv2.VideoWriter_fourcc(*'mp4v')\n",
    "video = cv2.VideoWriter('output_video.mp4', fourcc, 5, (width, height))\n",
    "\n",
    "# 将图片重复5次，每张图片显示1秒（3帧）\n",
    "images = [img1, img2, img3]\n",
    "for _ in range(10):  # 循环5次\n",
    "    for img in images:\n",
    "        for _ in range(1):  # 每张图片显示1秒（10帧）\n",
    "            video.write(img)\n",
    "\n",
    "# 释放视频对象\n",
    "video.release()\n",
    "\n",
    "print(\"视频已生成并保存为output_video.mp4\")"
   ]
  },
  {
   "cell_type": "code",
   "execution_count": null,
   "metadata": {},
   "outputs": [],
   "source": [
    "import cv2\n",
    "import os\n",
    "from PIL import Image\n",
    "\n",
    "# 指定图像文件路径\n",
    "image_dir = '.'  # 你的图像目录\n",
    "image_files = ['a.jpg', 'b.jpg', 'c.jpg']  # 你的图像文件名\n",
    "\n",
    "# 获取第一张图像的大小,用于设置视频大小\n",
    "image_path = os.path.join(image_dir, image_files[0])\n",
    "image = Image.open(image_path)\n",
    "width, height = image.size\n",
    "\n",
    "# 设置视频编码器和FPS\n",
    "fourcc = cv2.VideoWriter_fourcc(*'mp4v')\n",
    "fps = 1  # 每张图像显示1秒\n",
    "frame_count = 5 * len(image_files)  # 总帧数\n",
    "\n",
    "# 创建视频写入对象\n",
    "out = cv2.VideoWriter('output.mp4', fourcc, fps, (width, height))\n",
    "\n",
    "# 循环读取图像并写入视频\n",
    "for _ in range(5):  # 循环5次\n",
    "    for image_file in image_files:\n",
    "        image_path = os.path.join(image_dir, image_file)\n",
    "        image = cv2.imread(image_path)\n",
    "        out.write(image)\n",
    "\n",
    "out.release()\n",
    "cv2.destroyAllWindows()"
   ]
  },
  {
   "cell_type": "code",
   "execution_count": 4,
   "metadata": {},
   "outputs": [
    {
     "name": "stdout",
     "output_type": "stream",
     "text": [
      "视频已生成并保存为output_video.mp4\n"
     ]
    }
   ],
   "source": [
    "import cv2\n",
    "import numpy as np\n",
    "import os\n",
    "\n",
    "# 读取图片文件夹中的所有图片\n",
    "folder_path = 'mmgfig'\n",
    "images = []\n",
    "\n",
    "# 遍历文件夹中的所有文件，并将图片文件添加到列表中\n",
    "for filename in sorted(os.listdir(folder_path)):\n",
    "    if filename.endswith('.JPG') or filename.endswith('.png'):  # 添加其他图片格式如有需要\n",
    "        img = cv2.imread(os.path.join(folder_path, filename))\n",
    "        if img is not None:\n",
    "            images.append(img)\n",
    "\n",
    "# 检查是否有读取到图片\n",
    "if not images:\n",
    "    raise Exception(\"没有找到任何图片文件，请检查文件夹路径和文件格式\")\n",
    "\n",
    "# 获取图片尺寸\n",
    "height, width, layers = images[0].shape\n",
    "\n",
    "# 定义视频的编码器及相关参数\n",
    "fourcc = cv2.VideoWriter_fourcc(*'mp4v')\n",
    "video = cv2.VideoWriter('output_video-1.mp4', fourcc, 15, (width, height))\n",
    "\n",
    "# 将图片写入视频，每张图片作为一帧\n",
    "for img in images:\n",
    "    video.write(img)\n",
    "\n",
    "# 释放视频对象\n",
    "video.release()\n",
    "\n",
    "print(\"视频已生成并保存为output_video.mp4\")\n"
   ]
  }
 ],
 "metadata": {
  "kernelspec": {
   "display_name": "pytorch",
   "language": "python",
   "name": "python3"
  },
  "language_info": {
   "codemirror_mode": {
    "name": "ipython",
    "version": 3
   },
   "file_extension": ".py",
   "mimetype": "text/x-python",
   "name": "python",
   "nbconvert_exporter": "python",
   "pygments_lexer": "ipython3",
   "version": "3.10.8"
  }
 },
 "nbformat": 4,
 "nbformat_minor": 2
}
