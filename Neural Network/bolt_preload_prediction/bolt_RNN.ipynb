{
 "cells": [
  {
   "cell_type": "code",
   "execution_count": null,
   "metadata": {},
   "outputs": [],
   "source": [
    "import pandas as pd\n",
    "import torch\n",
    "import numpy as np\n",
    "from sklearn.preprocessing import MinMaxScaler\n",
    "from torch.utils.data import TensorDataset, DataLoader\n",
    "import os\n",
    "import cv2 as cv\n",
    "from torch.utils.data import Dataset\n",
    "from torchvision import transforms\n",
    "import torch.nn.functional as F\n",
    "from PIL import Image\n",
    "import torch.nn as nn\n",
    "from torch.optim import Adam\n",
    "import matplotlib.pyplot as plt\n",
    "import numpy as np\n",
    "from torch.autograd import Variable"
   ]
  },
  {
   "cell_type": "markdown",
   "metadata": {},
   "source": [
    "# Define the data and label"
   ]
  },
  {
   "cell_type": "code",
   "execution_count": null,
   "metadata": {},
   "outputs": [],
   "source": [
    "def getlabel(dir):\n",
    "    labels=[]\n",
    "    for name in os.listdir(dir):\n",
    "        if os.path.splitext(name)[1] == '.png':\n",
    "            fname=os.path.splitext(name)[0]\n",
    "            labels.append(fname)\n",
    "    labels = list(map(int, labels))\n",
    "    labels = torch.tensor(labels)\n",
    "    # Normalize labels\n",
    "    #min = torch.min(labels)\n",
    "    #max = torch.max(labels)\n",
    "    #labels = (labels - min) / (max - min)\n",
    "    labels = labels.type(torch.FloatTensor)\n",
    "    return labels\n",
    "\n",
    "def generate_dataset(dir):\n",
    "    \"\"\"\n",
    "    set_label should be 'torch.tensor([1])' if two-catogory and positive sample\n",
    "    \"\"\"\n",
    "    train_data = []\n",
    "    for file_name in os.listdir(dir):\n",
    "        if file_name != \"Thumbs.db\":\n",
    "            img_dir = os.path.join(dir, file_name)\n",
    "            img = cv.imread(img_dir)\n",
    "            img = cv.resize(img, (769, 432))   # /5 resize img\n",
    "            #img_gray = cv.cvtColor(img,cv.COLOR_RGB2GRAY)\n",
    "            pimg = Image.fromarray(img)\n",
    "            train_data.append(pimg)\n",
    "    return train_data"
   ]
  },
  {
   "cell_type": "code",
   "execution_count": null,
   "metadata": {},
   "outputs": [],
   "source": [
    "traindir= './train/'\n",
    "validdir = './test/'\n",
    "train_data0 = generate_dataset(traindir)\n",
    "train_label0=getlabel(traindir)\n",
    "valid_data0 = generate_dataset(validdir)\n",
    "valid_label0 = getlabel(validdir)\n"
   ]
  },
  {
   "cell_type": "code",
   "execution_count": null,
   "metadata": {},
   "outputs": [],
   "source": [
    "train_label0"
   ]
  },
  {
   "cell_type": "markdown",
   "metadata": {},
   "source": [
    "# 重写dataset类"
   ]
  },
  {
   "cell_type": "code",
   "execution_count": null,
   "metadata": {},
   "outputs": [],
   "source": [
    "class MyDataset(Dataset):\n",
    "    def __init__(self, data, labels, transform=None, target_transform=None):\n",
    "        self.transform = transform\n",
    "        self.target_transform = target_transform\n",
    "        imgs = []\n",
    "        for i in range(len(labels)):\n",
    "            # print(type(data[i]))    # <class 'PIL.Image.Image'>\n",
    "            im_tensor = transform(data[i])#.to(torch.device(\"cpu\"))\n",
    "            imgs.append((im_tensor, labels[i]))\n",
    "        self.imgs = imgs                         # DataLoader通过getitem读取图片数据\n",
    "    def __getitem__(self, index):\n",
    "        fn, label = self.imgs[index]\n",
    "        return fn, label\n",
    "    def __len__(self):\n",
    "        return len(self.imgs)\n",
    "    "
   ]
  },
  {
   "cell_type": "code",
   "execution_count": null,
   "metadata": {},
   "outputs": [],
   "source": []
  },
  {
   "cell_type": "markdown",
   "metadata": {},
   "source": [
    "# 用MyDataset构建数据集"
   ]
  },
  {
   "cell_type": "code",
   "execution_count": null,
   "metadata": {},
   "outputs": [],
   "source": [
    "normMean = [0.5, 0.5, 0.5]\n",
    "normStd = [0.5, 0.5, 0.5]\n",
    "transform = transforms.Compose(\n",
    "    [transforms.Grayscale(num_output_channels=1), #彩色图像转灰度图像num_output_channels默认1\n",
    "    transforms.ToTensor(),  # range [0, 255] -> [0.0,1.0]   \n",
    "    #transforms.Normalize(normMean, normStd)\n",
    "    ])\n",
    "\n",
    "# 也可以再定义train_transform加入一些数据增强 \n",
    "train_data = MyDataset(train_data0, train_label0, transform=transform)\n",
    "valid_data = MyDataset(valid_data0, valid_label0, transform=transform)\n",
    "train_loader = DataLoader(dataset=train_data, batch_size=1, shuffle=True)\n",
    "valid_loader = DataLoader(dataset=valid_data, batch_size=1, shuffle=True)\n",
    "dataiter=iter(train_loader)\n",
    "images, labels = dataiter.next()\n",
    "print(images.shape)\n",
    "print(labels.shape)"
   ]
  },
  {
   "cell_type": "code",
   "execution_count": null,
   "metadata": {},
   "outputs": [],
   "source": [
    "len(train_label0)"
   ]
  },
  {
   "cell_type": "markdown",
   "metadata": {},
   "source": [
    "# 定义网络"
   ]
  },
  {
   "cell_type": "code",
   "execution_count": null,
   "metadata": {},
   "outputs": [],
   "source": [
    "class Net(torch.nn.Module):\n",
    "    # Net类的初始化函数\n",
    "    def __init__(self, n_feature, n_hidden, n_output):\n",
    "        # 继承父类的初始化函数\n",
    "        super(Net, self).__init__()\n",
    "        # 网络的隐藏层创建，名称可以随便起\n",
    "        self.conv1 = nn.Conv2d(in_channels=1, out_channels=3, kernel_size=3, stride=1, padding=1)\n",
    "        self.bn1 = nn.BatchNorm2d(3)\n",
    "        self.conv2 = nn.Conv2d(in_channels=3, out_channels=6, kernel_size=3, stride=1, padding=1)\n",
    "        self.bn2 = nn.BatchNorm2d(6)\n",
    "        self.pool = nn.MaxPool2d(2,2)\n",
    "        self.fc1 = nn.Linear(6*108*192, n_feature)\n",
    "        self.hidden_layer = torch.nn.Linear(n_feature, n_hidden)\n",
    "        # 输出层(预测层)创建，接收来自隐含层的数据\n",
    "        self.predict_layer = torch.nn.Linear(n_hidden, n_output)\n",
    "\n",
    "    # 网络的前向传播函数，构造计算图\n",
    "    def forward(self, x):\n",
    "        x = F.relu(self.bn1(self.conv1(x)))      #432-3+1=430,430/2=215;769-3+1=767,767/2=384\n",
    "        x = self.pool(x)\n",
    "        x = F.relu(self.bn2(self.conv2(x)))                #215-3+1=213,213/2=108;384-3+1=382,382/2=192\n",
    "        x = self.pool(x)   \n",
    "        x = x.view(-1, 6*108*192)\n",
    "        x = F.relu(self.fc1(x))\n",
    "        # 用relu函数处理隐含层输出的结果并传给输出层\n",
    "        hidden_result = self.hidden_layer(x)\n",
    "        relu_result = F.relu(hidden_result)\n",
    "        predict_result = self.predict_layer(relu_result)\n",
    "        return predict_result"
   ]
  },
  {
   "cell_type": "code",
   "execution_count": null,
   "metadata": {},
   "outputs": [],
   "source": [
    "def testAccuracy():\n",
    "    \n",
    "    net.eval()\n",
    "    accuracy = 0.0\n",
    "    total = 0.0\n",
    "    device = torch.device(\"cuda:0\" if torch.cuda.is_available() else \"cpu\")\n",
    "    #device = torch.device(\"cpu\")\n",
    "\n",
    "    with torch.no_grad():\n",
    "        for data in valid_loader:\n",
    "            images, labels = data\n",
    "            images, labels = images.to(device), labels.to(device)\n",
    "            # run the model on the test set to predict labels\n",
    "            outputs = net(images)\n",
    "            # the label with the highest energy will be our prediction\n",
    "            _, predicted = torch.max(outputs.data, 1)\n",
    "            total += labels.size(0)\n",
    "            accuracy += (predicted == labels).sum().item()\n",
    "    \n",
    "    # compute the accuracy over all test images\n",
    "    accuracy = (100 * accuracy / total)\n",
    "    return(accuracy)\n",
    "\n",
    "def train(num_epochs):\n",
    "    \n",
    "    best_accuracy = 0.0\n",
    "\n",
    "    # Define your execution device\n",
    "    device = torch.device(\"cuda:0\" if torch.cuda.is_available() else \"cpu\")\n",
    "    #device = torch.device(\"cpu\")\n",
    "\n",
    "    # Convert model parameters and buffers to CPU or Cuda\n",
    "    net.to(device)\n",
    "    for epoch in range(num_epochs):  # loop over the dataset multiple times\n",
    "        running_loss = 0.0\n",
    "        running_acc = 0.0\n",
    "\n",
    "        for i, (images, labels) in enumerate(train_loader, 0):\n",
    "            #images, labels = dataiter.next()\n",
    "            # 输入数据进行预测\n",
    "            # get the inputs\n",
    "            images = Variable(images.to(device))\n",
    "            labels = Variable(labels.to(device))\n",
    "            prediction = net(images)\n",
    "            print(prediction,labels)\n",
    "            print(prediction.data.cpu().numpy()[0])\n",
    "            print(labels.data.cpu().numpy())\n",
    "            # 计算预测值与真值误差，注意参数顺序问题\n",
    "            # 第一个参数为预测值，第二个为真值\n",
    "            loss = loss_func(prediction, labels)\n",
    "\n",
    "            # 开始优化步骤\n",
    "            # 每次开始优化前将梯度置为0\n",
    "            optimizer.zero_grad()\n",
    "            # 误差反向传播\n",
    "            loss.backward()\n",
    "            # 按照最小loss优化参数\n",
    "            optimizer.step()\n",
    "            print('epoch:',i,'loss:',loss.item())\n",
    "            if i % 1000 == 999:    \n",
    "                # print every 1000 (twice per epoch) \n",
    "                print('[%d, %5d] loss: %.3f' %\n",
    "                      (epoch + 1, i + 1, running_loss / 1000))\n",
    "                # zero the loss\n",
    "                running_loss = 0.0\n",
    "            # if i % 2 == 0:\n",
    "        #     # plot and show learning process\n",
    "        #         plt.cla()\n",
    "        #         # 无误差真值曲线\n",
    "        #         plt.plot(labels.cpu().numpy(), labels.cpu().numpy(), c='blue', lw='3')\n",
    "        #         # 实时预测的曲线\n",
    "        #         plt.scatter(labels.data.cpu().numpy()[0], prediction.data.cpu().numpy()[0])\n",
    "        #         plt.text(0.5, 0, 'Loss=%.4f' % loss.data.cpu().numpy(), fontdict={'size': 20, 'color':  'red'})\n",
    "        #         plt.pause(0.1)\n",
    "        # # 计算准确率\n",
    "        # # Compute and print the average accuracy fo this epoch when tested over all 10000 test images\n",
    "        accuracy = testAccuracy()\n",
    "        print('For epoch', epoch+1,'the test accuracy over the whole test set is %d %%' % (accuracy))\n",
    "\n",
    "\n",
    "    print('Finished Training')\n",
    "        #可视化训练结果\n",
    "        # if i % 2 == 0:\n",
    "        #     # 清空上一次显示结果\n",
    "        #     plt.cla()\n",
    "        #     # 无误差真值曲线\n",
    "        #     plt.plot(images.numpy(), labels.numpy(), c='blue', lw='3')\n",
    "        #     # 有误差散点\n",
    "        #     plt.scatter(images.numpy(), labels.numpy(), c='orange')\n",
    "        #     # 实时预测的曲线\n",
    "        #     plt.plot(images.numpy(), prediction.data.numpy(), c='red', lw='2')\n",
    "        #     plt.text(-0.5, -65, 'Time=%d Loss=%.4f' % (i, loss.data.numpy()), fontdict={'size': 15, 'color': 'red'})\n",
    "        #     plt.pause(0.1)"
   ]
  },
  {
   "cell_type": "code",
   "execution_count": null,
   "metadata": {},
   "outputs": [],
   "source": [
    "Vdataiter=iter(valid_loader)\n",
    "vimg, vlabels = Vdataiter.next()\n",
    "print(vimg.shape)\n",
    "print(vlabels.shape)\n",
    "print(vlabels)"
   ]
  },
  {
   "cell_type": "markdown",
   "metadata": {},
   "source": [
    "## 预测结果"
   ]
  },
  {
   "cell_type": "code",
   "execution_count": null,
   "metadata": {},
   "outputs": [],
   "source": [
    "def predict(model, device):\n",
    "    Vdataiter=iter(valid_loader)\n",
    "    vimg, vlabels = Vdataiter.next()\n",
    "    model.to(device)\n",
    "    with torch.no_grad():\n",
    "        vimg=vimg.to(device)\n",
    "        out = model(vimg)\n",
    "        #_, pre = torch.max(out.data, 1)\n",
    "        return out, vlabels"
   ]
  },
  {
   "cell_type": "markdown",
   "metadata": {},
   "source": [
    "# 定义模型"
   ]
  },
  {
   "cell_type": "code",
   "execution_count": null,
   "metadata": {},
   "outputs": [],
   "source": [
    "# 输入输出的数据维度，这里都是1维\n",
    "INPUT_FEATURE_DIM = 2000\n",
    "# 隐含层中神经元的个数\n",
    "NEURON_NUM = 200\n",
    "OUTPUT_FEATURE_DIM = 1\n",
    "# 学习率，越大学的越快，但也容易造成不稳定，准确率上下波动的情况\n",
    "LEARNING_RATE = 0.001\n",
    "\n",
    "# 定义模型\n",
    "net = Net(n_feature=INPUT_FEATURE_DIM, n_hidden=NEURON_NUM, n_output=OUTPUT_FEATURE_DIM)\n",
    "print(net)\n",
    "# 训练网络\n",
    "# 这里也可以使用其它的优化方法\n",
    "optimizer = torch.optim.Adam(net.parameters(), lr=LEARNING_RATE)\n",
    "# 定义一个误差计算方法\n",
    "loss_func = torch.nn.MSELoss() # 定义交叉熵损失函数 交叉熵损失函数是用来衡量两个概率分布之间的距离的#nn.MSELoss()\n",
    "# Define the loss function with Classification Cross-Entropy loss and an optimizer with Adam optimizer"
   ]
  },
  {
   "cell_type": "markdown",
   "metadata": {},
   "source": [
    "# 主函数"
   ]
  },
  {
   "cell_type": "code",
   "execution_count": null,
   "metadata": {},
   "outputs": [],
   "source": [
    "# Vdataiter=iter(valid_loader)\n",
    "# vimg, vlabels = Vdataiter.next()\n",
    "# print(vimg.shape)\n",
    "# print(vlabels.shape)\n",
    "# print(vlabels)\n",
    "if __name__ == \"__main__\":\n",
    "\n",
    "    torch.cuda.empty_cache()\n",
    "    \n",
    "    device = torch.device(\"cuda:0\" if torch.cuda.is_available() else \"cpu\")\n",
    "    #device = torch.device(\"cpu\")\n",
    "    # Let's build our model\n",
    "    train(20)\n",
    "    print('Finished Training')\n",
    "\n",
    "    # Test which classes performed well\n",
    "    testAccuracy()\n",
    "    \n",
    "    # Let's load the model we just created and test the accuracy per label\n",
    "    # model = net()\n",
    "    # path = \"myFirstModel.pth\"\n",
    "    # model.load_state_dict(torch.load(path))\n",
    "\n",
    "    print(predict(net, device))\n"
   ]
  },
  {
   "cell_type": "markdown",
   "metadata": {},
   "source": []
  },
  {
   "cell_type": "code",
   "execution_count": null,
   "metadata": {},
   "outputs": [],
   "source": [
    "print(predict(net, device))"
   ]
  }
 ],
 "metadata": {
  "kernelspec": {
   "display_name": "Python 3.10.4 ('pytorch')",
   "language": "python",
   "name": "python3"
  },
  "language_info": {
   "codemirror_mode": {
    "name": "ipython",
    "version": 3
   },
   "file_extension": ".py",
   "mimetype": "text/x-python",
   "name": "python",
   "nbconvert_exporter": "python",
   "pygments_lexer": "ipython3",
   "version": "3.10.4"
  },
  "orig_nbformat": 4,
  "vscode": {
   "interpreter": {
    "hash": "42595150bdbafaecb1d502262dbdb1dd1d02eee36238f46c99994dfdfd30a8ef"
   }
  }
 },
 "nbformat": 4,
 "nbformat_minor": 2
}
