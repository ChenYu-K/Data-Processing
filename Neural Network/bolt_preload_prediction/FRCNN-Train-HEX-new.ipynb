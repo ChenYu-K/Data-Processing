{
 "cells": [
  {
   "cell_type": "code",
   "execution_count": 1,
   "metadata": {
    "collapsed": true,
    "pycharm": {
     "name": "#%%\n"
    }
   },
   "outputs": [],
   "source": [
    "import numpy\n",
    "import pandas as pd\n",
    "import torch\n",
    "import numpy as np\n",
    "#from sklearn.preprocessing import MinMaxScaler\n",
    "from torch.utils.data import TensorDataset, DataLoader\n",
    "import os\n",
    "import torchvision.transforms as T\n",
    "import csv\n",
    "import cv2 as cv\n",
    "from torch.utils.data import Dataset\n",
    "from torchvision import transforms\n",
    "import torch.nn.functional as F\n",
    "from PIL import Image\n",
    "import torch.nn as nn\n",
    "from torch.optim import Adam\n",
    "import matplotlib.pyplot as plt\n",
    "import numpy as np\n",
    "from torch.autograd import Variable"
   ]
  },
  {
   "cell_type": "code",
   "execution_count": 2,
   "metadata": {
    "collapsed": false,
    "pycharm": {
     "name": "#%%\n"
    }
   },
   "outputs": [],
   "source": [
    "def generate_dataset(dir):\n",
    "    \"\"\"\n",
    "    set_label should be 'torch.tensor([1])' if two-catogory and positive sample\n",
    "    \"\"\"\n",
    "    file = pd.read_csv(r'datalabel.csv')\n",
    "    file=np.array(file)\n",
    "    labels=[]\n",
    "    train_data = []\n",
    "    for file_name in os.listdir(dir):\n",
    "        if file_name != \"Thumbs.db\":\n",
    "            img_dir = os.path.join(dir, file_name)\n",
    "            img = cv.imread(img_dir)\n",
    "            #img = cv.resize(img, (769, 432))   # /5 resize img\n",
    "            #img_gray = cv.cvtColor(img,cv.COLOR_RGB2GRAY)\n",
    "            pimg = Image.fromarray(img)\n",
    "            train_data.append(pimg)\n",
    "\n",
    "            for item in file:       #add label\n",
    "                sh= item[1]\n",
    "                if file_name == sh:\n",
    "                    labels.append(item[0])\n",
    "    labels = torch.tensor(labels)\n",
    "    labels = labels.type(torch.FloatTensor)\n",
    "    labels = labels.unsqueeze(1)\n",
    "    return train_data,labels"
   ]
  },
  {
   "cell_type": "code",
   "execution_count": 3,
   "metadata": {
    "collapsed": false,
    "pycharm": {
     "name": "#%%\n"
    }
   },
   "outputs": [],
   "source": [
    "traindir= './train/'\n",
    "validdir='./valid/'\n",
    "train_data, train_label = generate_dataset(traindir)\n",
    "valid_data, valid_label = generate_dataset(validdir)"
   ]
  },
  {
   "cell_type": "code",
   "execution_count": null,
   "metadata": {
    "collapsed": false,
    "pycharm": {
     "name": "#%%\n"
    }
   },
   "outputs": [
    {
     "name": "stdout",
     "output_type": "stream",
     "text": [
      "tensor([[ 89.0880],\n",
      "        [104.6530],\n",
      "        [108.7490],\n",
      "        [ 11.2640],\n",
      "        [ 22.1184],\n",
      "        [ 26.6240],\n",
      "        [ 39.1168],\n",
      "        [ 44.0320],\n",
      "        [ 66.1504],\n",
      "        [ 69.2224],\n",
      "        [ 75.9808],\n",
      "        [ 78.4384],\n",
      "        [ 81.7152],\n",
      "        [ 84.9920],\n",
      "        [ 94.4128],\n",
      "        [ 97.4848],\n",
      "        [108.5440],\n",
      "        [112.6400],\n",
      "        [112.2300],\n",
      "        [ 17.4080],\n",
      "        [ 18.6368],\n",
      "        [ 19.2512],\n",
      "        [ 19.0464],\n",
      "        [ 19.2512],\n",
      "        [ 19.0464],\n",
      "        [ 19.0464],\n",
      "        [ 19.0464],\n",
      "        [ 23.9616],\n",
      "        [ 31.1296],\n",
      "        [ 33.5872],\n",
      "        [ 63.6928],\n",
      "        [ 71.8848],\n",
      "        [ 75.5712],\n",
      "        [ 77.8240],\n",
      "        [ 79.8720],\n",
      "        [ 89.0880],\n",
      "        [ 90.1120],\n",
      "        [ 90.5216],\n",
      "        [ 92.1600],\n",
      "        [ 32.5632],\n",
      "        [ 33.9968],\n",
      "        [ 35.6352],\n",
      "        [ 37.4784],\n",
      "        [ 60.6208],\n",
      "        [ 61.0304],\n",
      "        [ 62.2592],\n",
      "        [ 63.4880],\n",
      "        [ 69.2224],\n",
      "        [ 69.2224],\n",
      "        [ 83.7632],\n",
      "        [ 84.5824],\n",
      "        [ 84.9920],\n",
      "        [ 85.4016],\n",
      "        [ 85.8112],\n",
      "        [ 98.5088]])\n"
     ]
    }
   ],
   "source": [
    "print(valid_label)"
   ]
  },
  {
   "cell_type": "code",
   "execution_count": null,
   "metadata": {
    "collapsed": false,
    "pycharm": {
     "name": "#%%\n"
    }
   },
   "outputs": [],
   "source": [
    "class MyDataset(Dataset):\n",
    "    def __init__(self, data, labels, transform=None, target_transform=None):\n",
    "        self.transform = transform\n",
    "        self.target_transform = target_transform\n",
    "        imgs = []\n",
    "        for i in range(len(labels)):\n",
    "            # print(type(data[i]))    # <class 'PIL.Image.Image'>\n",
    "            im_tensor = transform(data[i])#.to(torch.device(\"cpu\"))\n",
    "            imgs.append((im_tensor, labels[i]))\n",
    "        self.imgs = imgs                         # DataLoader通过getitem读取图片数据\n",
    "    def __getitem__(self, index):\n",
    "        fn, label = self.imgs[index]\n",
    "        return fn, label\n",
    "    def __len__(self):\n",
    "        return len(self.imgs)"
   ]
  },
  {
   "cell_type": "code",
   "execution_count": null,
   "metadata": {
    "collapsed": false,
    "pycharm": {
     "name": "#%%\n"
    }
   },
   "outputs": [
    {
     "name": "stdout",
     "output_type": "stream",
     "text": [
      "torch.Size([2, 1, 1000, 1000])\n",
      "torch.Size([2, 1])\n"
     ]
    }
   ],
   "source": [
    "normMean = [0.5, 0.5, 0.5]\n",
    "normStd = [0.5, 0.5, 0.5]\n",
    "transform = transforms.Compose([\n",
    "    transforms.Resize(1000),\n",
    "    transforms.Grayscale(num_output_channels=1), #彩色图像转灰度图像num_output_channels默认1\n",
    "    transforms.ToTensor(),  # range [0, 255] -> [0.0,1.0]\n",
    "    #transforms.Normalize(normMean, normStd)\n",
    "    ])\n",
    "\n",
    "# 也可以再定义train_transform加入一些数据增强\n",
    "train_data = MyDataset(train_data, train_label, transform=transform)\n",
    "valid_data = MyDataset(valid_data, valid_label, transform=transform)\n",
    "train_loader = DataLoader(dataset=train_data, batch_size=2, shuffle=True)\n",
    "valid_loader = DataLoader(dataset=valid_data, batch_size=2, shuffle=True)\n",
    "dataiter=iter(train_loader)\n",
    "images, labels = dataiter.next()\n",
    "print(images.shape)\n",
    "print(labels.shape)"
   ]
  },
  {
   "cell_type": "code",
   "execution_count": null,
   "metadata": {},
   "outputs": [
    {
     "data": {
      "text/plain": [
       "<matplotlib.image.AxesImage at 0x1a3c5dd4fd0>"
      ]
     },
     "execution_count": 20,
     "metadata": {},
     "output_type": "execute_result"
    },
    {
     "data": {
      "image/png": "[encoded data removed]",
      "text/plain": [
       "<Figure size 432x288 with 1 Axes>"
      ]
     },
     "metadata": {
      "needs_background": "light"
     },
     "output_type": "display_data"
    }
   ],
   "source": [
    "topic = T.ToPILImage()\n",
    "imm1 = topic(images[0])\n",
    "plt.imshow(imm1)"
   ]
  },
  {
   "cell_type": "markdown",
   "metadata": {},
   "source": []
  },
  {
   "cell_type": "code",
   "execution_count": null,
   "metadata": {},
   "outputs": [],
   "source": []
  },
  {
   "cell_type": "markdown",
   "metadata": {
    "collapsed": false,
    "pycharm": {
     "name": "#%% md\n"
    }
   },
   "source": [
    "# Defin network"
   ]
  },
  {
   "cell_type": "code",
   "execution_count": null,
   "metadata": {
    "collapsed": false,
    "pycharm": {
     "name": "#%%\n"
    }
   },
   "outputs": [],
   "source": [
    "# todo Bottleneck\n",
    "class Bottleneck(nn.Module):\n",
    "    \"\"\"\n",
    "    __init__\n",
    "        in_channel：残差块输入通道数\n",
    "        out_channel：残差块输出通道数\n",
    "        stride：卷积步长\n",
    "        downsample：在_make_layer函数中赋值，用于控制shortcut图片下采样 H/2 W/2\n",
    "    \"\"\"\n",
    "    expansion = 4   # 残差块第3个卷积层的通道膨胀倍率\n",
    "    def __init__(self, in_channel, out_channel, stride=1, downsample=None):\n",
    "        super(Bottleneck, self).__init__()\n",
    "\n",
    "        self.conv1 = nn.Conv2d(in_channels=in_channel, out_channels=out_channel, kernel_size=1, stride=1, bias=False)   # H,W不变。C: in_channel -> out_channel\n",
    "        self.bn1 = nn.BatchNorm2d(num_features=out_channel)\n",
    "        self.conv2 = nn.Conv2d(in_channels=out_channel, out_channels=out_channel, kernel_size=3, stride=stride, bias=False, padding=1)  # H/2，W/2。C不变\n",
    "        self.bn2 = nn.BatchNorm2d(num_features=out_channel)\n",
    "        self.conv3 = nn.Conv2d(in_channels=out_channel, out_channels=out_channel*self.expansion, kernel_size=1, stride=1, bias=False)   # H,W不变。C: out_channel -> 4*out_channel\n",
    "        self.bn3 = nn.BatchNorm2d(num_features=out_channel*self.expansion)\n",
    "        self.relu = nn.ReLU(inplace=True)\n",
    "\n",
    "        self.downsample = downsample\n",
    "\n",
    "    def forward(self, x):\n",
    "        identity = x    # 将原始输入暂存为shortcut的输出\n",
    "        if self.downsample is not None:\n",
    "            identity = self.downsample(x)   # 如果需要下采样，那么shortcut后:H/2，W/2。C: out_channel -> 4*out_channel(见ResNet中的downsample实现)\n",
    "\n",
    "        out = self.conv1(x)\n",
    "        out = self.bn1(out)\n",
    "        out = self.relu(out)\n",
    "\n",
    "        out = self.conv2(out)\n",
    "        out = self.bn2(out)\n",
    "        out = self.relu(out)\n",
    "\n",
    "        out = self.conv3(out)\n",
    "        out = self.bn3(out)\n",
    "\n",
    "        out += identity     # 残差连接\n",
    "        out = self.relu(out)\n",
    "\n",
    "        return out"
   ]
  },
  {
   "cell_type": "code",
   "execution_count": null,
   "metadata": {
    "collapsed": false,
    "pycharm": {
     "name": "#%%\n"
    }
   },
   "outputs": [],
   "source": [
    "class ResNet(nn.Module):\n",
    "    \"\"\"\n",
    "    __init__\n",
    "        block: 堆叠的基本模块\n",
    "        block_num: 基本模块堆叠个数,是一个list,对于resnet50=[3,4,6,3]\n",
    "        num_classes: 全连接之后的分类特征维度\n",
    "\n",
    "    _make_layer\n",
    "        block: 堆叠的基本模块\n",
    "        channel: 每个stage中堆叠模块的第一个卷积的卷积核个数，对resnet50分别是:64,128,256,512\n",
    "        block_num: 当期stage堆叠block个数\n",
    "        stride: 默认卷积步长\n",
    "    \"\"\"\n",
    "    def __init__(self, block, block_num, num_classes):\n",
    "        super(ResNet, self).__init__()\n",
    "        self.in_channel = 1    # conv1的输出维度\n",
    "\n",
    "        self.conv1 = nn.Conv2d(in_channels=1, out_channels=self.in_channel, kernel_size=7, stride=2, padding=3, bias=False)     # H/2,W/2。C:3->64\n",
    "        self.bn1 = nn.BatchNorm2d(self.in_channel)\n",
    "        self.relu = nn.ReLU(inplace=True)\n",
    "        self.maxpool = nn.MaxPool2d(kernel_size=3, stride=2, padding=1)     # H/2,W/2。C不变\n",
    "        self.layer1 = self._make_layer(block=block, channel=64, block_num=block_num[0], stride=1)   # H,W不变。downsample控制的shortcut，out_channel=64x4=256\n",
    "        self.layer2 = self._make_layer(block=block, channel=128, block_num=block_num[1], stride=2)  # H/2, W/2。downsample控制的shortcut，out_channel=128x4=512\n",
    "        self.layer3 = self._make_layer(block=block, channel=256, block_num=block_num[2], stride=2)  # H/2, W/2。downsample控制的shortcut，out_channel=256x4=1024\n",
    "        self.layer4 = self._make_layer(block=block, channel=512, block_num=block_num[3], stride=2)  # H/2, W/2。downsample控制的shortcut，out_channel=512x4=2048\n",
    "\n",
    "        self.avgpool = nn.AdaptiveAvgPool2d((1,1))  # 将每张特征图大小->(1,1)，则经过池化后的输出维度=通道数\n",
    "        self.fc1 = nn.Linear(in_features=512*block.expansion, out_features=1024) #in=2048,out=1024\n",
    "        self.fc2 = nn.Linear(in_features=1024, out_features=512) #in=1024, out=512\n",
    "        self.fc3 = nn.Linear(in_features=512, out_features=128) #in=512, out=128\n",
    "        self.fc4 = nn.Linear(in_features=128, out_features=num_classes) #in=512, out=1\n",
    "\n",
    "        for m in self.modules():    # 权重初始化\n",
    "            if isinstance(m, nn.Conv2d):\n",
    "                nn.init.kaiming_normal_(m.weight, mode='fan_out', nonlinearity='relu')\n",
    "\n",
    "    def _make_layer(self, block, channel, block_num, stride=1):\n",
    "        downsample = None   # 用于控制shorcut路的\n",
    "        if stride != 1 or self.in_channel != channel*block.expansion:   # 对resnet50：conv2中特征图尺寸H,W不需要下采样/2，但是通道数x4，因此shortcut通道数也需要x4。对其余conv3,4,5，既要特征图尺寸H,W/2，又要shortcut维度x4\n",
    "            downsample = nn.Sequential(\n",
    "                nn.Conv2d(in_channels=self.in_channel, out_channels=channel*block.expansion, kernel_size=1, stride=stride, bias=False), # out_channels决定输出通道数x4，stride决定特征图尺寸H,W/2\n",
    "                nn.BatchNorm2d(num_features=channel*block.expansion))\n",
    "\n",
    "        layers = []  # 每一个convi_x的结构保存在一个layers列表中，i={2,3,4,5}\n",
    "        layers.append(block(in_channel=self.in_channel, out_channel=channel, downsample=downsample, stride=stride)) # 定义convi_x中的第一个残差块，只有第一个需要设置downsample和stride\n",
    "        self.in_channel = channel*block.expansion   # 在下一次调用_make_layer函数的时候，self.in_channel已经x4\n",
    "\n",
    "        for _ in range(1, block_num):  # 通过循环堆叠其余残差块(堆叠了剩余的block_num-1个)\n",
    "            layers.append(block(in_channel=self.in_channel, out_channel=channel))\n",
    "\n",
    "        return nn.Sequential(*layers)   # '*'的作用是将list转换为非关键字参数传入\n",
    "\n",
    "    def forward(self, x):\n",
    "        x = self.conv1(x)\n",
    "        x = self.bn1(x)\n",
    "        x = self.relu(x)\n",
    "        x = self.maxpool(x)\n",
    "\n",
    "        x = self.layer1(x)\n",
    "        x = self.layer2(x)\n",
    "        x = self.layer3(x)\n",
    "        x = self.layer4(x)\n",
    "\n",
    "        x = self.avgpool(x)\n",
    "        x = torch.flatten(x, 1)\n",
    "        x = self.fc1(x)\n",
    "        x = self.relu(x)\n",
    "        x = self.fc2(x)\n",
    "        x = self.relu(x)\n",
    "        x = self.fc3(x)\n",
    "        x = self.relu(x)\n",
    "        x = self.fc4(x)\n",
    "        return x"
   ]
  },
  {
   "cell_type": "code",
   "execution_count": null,
   "metadata": {
    "collapsed": false,
    "pycharm": {
     "name": "#%%\n"
    }
   },
   "outputs": [],
   "source": [
    "def testAccuracy():\n",
    "\n",
    "    net.eval()\n",
    "    accuracy = 0.0\n",
    "    total = 0.0\n",
    "    error = 0.0\n",
    "    device = torch.device(\"cuda:0\" if torch.cuda.is_available() else \"cpu\")\n",
    "    #device = torch.device(\"cpu\")\n",
    "\n",
    "    with torch.no_grad():\n",
    "        for data in valid_loader:\n",
    "            images, labels = data\n",
    "            images, labels = images.to(device), labels.to(device)\n",
    "            # run the model on the test set to predict labels\n",
    "            outputs = net(images)\n",
    "            # the label with the highest energy will be our prediction\n",
    "            predicted, _ = torch.max(outputs.data, 1)\n",
    "            error += abs(predicted - labels)/labels\n",
    "            total += labels.size(0)\n",
    "            accuracy += (predicted == labels).sum().item()\n",
    "\n",
    "    # compute the accuracy over all test images\n",
    "    accuracy = (100 * accuracy / total)\n",
    "    error = (100* error / total)\n",
    "    error = np.round(error[0][0].data.cpu().numpy(),2)\n",
    "    return(error)\n",
    "\n",
    "def train(num_epochs,device):\n",
    "    import time\n",
    "    start_time = time.process_time()\n",
    "    best_accuracy = 0.0\n",
    "\n",
    "    # Define your execution device\n",
    "    #device = torch.device(\"cuda:0\" if torch.cuda.is_available() else \"cpu\")\n",
    "    #device = torch.device(\"cpu\")\n",
    "\n",
    "    predata=[]\n",
    "    labeldata=[]\n",
    "    mseloss=[]\n",
    "    trainnum=[]\n",
    "    accall=[]\n",
    "    # Convert model parameters and buffers to CPU or Cuda\n",
    "    net.to(device)\n",
    "    for epoch in range(num_epochs):  # loop over the dataset multiple times\n",
    "        running_loss = 0.0\n",
    "        running_acc = 0.0\n",
    "\n",
    "        for i, (images, labels) in enumerate(train_loader, 0):\n",
    "            #images, labels = dataiter.next()\n",
    "            # 输入数据进行预测\n",
    "            # get the inputs\n",
    "            images = Variable(images.to(device))\n",
    "            labels = Variable(labels.to(device))\n",
    "            prediction = net(images)\n",
    "            #print(prediction,labels)\n",
    "            #print('Prediction data is:',prediction.data.cpu().numpy()[0])\n",
    "            #print('label data is: ',labels.data.cpu().numpy())\n",
    "            # 计算预测值与真值误差，注意参数顺序问题\n",
    "            # 第一个参数为预测值，第二个为真值\n",
    "            loss = loss_func(prediction, labels)\n",
    "            # 开始优化步骤\n",
    "            # 每次开始优化前将梯度置为0\n",
    "            optimizer.zero_grad()\n",
    "            # 误差反向传播\n",
    "            loss.backward()\n",
    "            # 按照最小loss优化参数\n",
    "            optimizer.step()\n",
    "            running_loss += loss.item()\n",
    "\n",
    "            if (i+1) % 10 == 0:\n",
    "                # print every 1000 (twice per epoch)\n",
    "                #print(f\"epoch #{epoch+1} Iteration #{i+1} loss: {loss_value}\")\n",
    "                print('[%d, %5d] loss: %.3f' %\n",
    "                      (epoch + 1, i + 1, running_loss / 10))\n",
    "                print(prediction.data.cpu().numpy()[0],\"and\",labels.data.cpu().numpy()[0])\n",
    "                mseloss.append(running_loss/10)\n",
    "                trainnum.append((i+1)*(epoch+1))\n",
    "                # zero the loss\n",
    "                running_loss = 0.0\n",
    "            predata.append(prediction.data.cpu().numpy()[0])\n",
    "            labeldata.append(labels.data.cpu().numpy()[0])\n",
    "\n",
    "        accuracy = testAccuracy()\n",
    "        accall.append(accuracy)\n",
    "        print('For epoch', epoch+1,'the test accuracy over the whole test set is %d %%' % (accuracy))\n",
    "\n",
    "\n",
    "    print('Finished Training')\n",
    "\n",
    "    plt.figure()\n",
    "    plt.plot()\n",
    "    plt.grid(True)\n",
    "    plt.ylim(0,205)\n",
    "    plt.xlim(0,205)\n",
    "    plt.plot(train_label.data.numpy(), train_label.data.numpy(), c='Red', lw='3')\n",
    "    plt.scatter(predata,labeldata)\n",
    "    plt.text(0.5, 0, 'Loss=%.4f' % loss.data.cpu().numpy(), fontdict={'size': 20, 'color':  'red'})\n",
    "\n",
    "\n",
    "    plt.figure()\n",
    "    plt.legend()\n",
    "    plt.grid(True)\n",
    "    plt.ylim(0,5)\n",
    "    plt.ylabel(\"Mean Squared Error\")\n",
    "    plt.xlabel(\"train times\")\n",
    "    plt.plot(trainnum,mseloss)\n",
    "\n",
    "\n",
    "    end_time = time.process_time()\n",
    "    print(\"Use time:\", end_time-start_time)\n"
   ]
  },
  {
   "cell_type": "code",
   "execution_count": null,
   "metadata": {
    "collapsed": false,
    "pycharm": {
     "name": "#%%\n"
    }
   },
   "outputs": [
    {
     "name": "stdout",
     "output_type": "stream",
     "text": [
      "torch.Size([2, 1, 1000, 1000])\n",
      "torch.Size([2, 1])\n",
      "tensor([[77.8240],\n",
      "        [81.7152]])\n"
     ]
    }
   ],
   "source": [
    "Vdataiter=iter(valid_loader)#valid_loader\n",
    "vimg, vlabels = Vdataiter.next()\n",
    "print(vimg.shape)\n",
    "print(vlabels.shape)\n",
    "print(vlabels)"
   ]
  },
  {
   "cell_type": "code",
   "execution_count": null,
   "metadata": {
    "collapsed": false,
    "pycharm": {
     "name": "#%%\n"
    }
   },
   "outputs": [],
   "source": [
    "def predict(model, device,dataloder):\n",
    "    Vdataiter=iter(dataloder)\n",
    "    vimg, vlabels = Vdataiter.next()\n",
    "    model.to(device)\n",
    "    with torch.no_grad():\n",
    "        vimg=vimg.to(device)\n",
    "        out = model(vimg)\n",
    "        #_, pre = torch.max(out.data, 1)\n",
    "        return out, vlabels"
   ]
  },
  {
   "cell_type": "markdown",
   "metadata": {
    "collapsed": false,
    "pycharm": {
     "name": "#%% md\n"
    }
   },
   "source": [
    "# defin model"
   ]
  },
  {
   "cell_type": "code",
   "execution_count": null,
   "metadata": {
    "collapsed": false,
    "pycharm": {
     "name": "#%%\n"
    }
   },
   "outputs": [
    {
     "name": "stdout",
     "output_type": "stream",
     "text": [
      "ResNet(\n",
      "  (conv1): Conv2d(1, 1, kernel_size=(7, 7), stride=(2, 2), padding=(3, 3), bias=False)\n",
      "  (bn1): BatchNorm2d(1, eps=1e-05, momentum=0.1, affine=True, track_running_stats=True)\n",
      "  (relu): ReLU(inplace=True)\n",
      "  (maxpool): MaxPool2d(kernel_size=3, stride=2, padding=1, dilation=1, ceil_mode=False)\n",
      "  (layer1): Sequential(\n",
      "    (0): Bottleneck(\n",
      "      (conv1): Conv2d(1, 64, kernel_size=(1, 1), stride=(1, 1), bias=False)\n",
      "      (bn1): BatchNorm2d(64, eps=1e-05, momentum=0.1, affine=True, track_running_stats=True)\n",
      "      (conv2): Conv2d(64, 64, kernel_size=(3, 3), stride=(1, 1), padding=(1, 1), bias=False)\n",
      "      (bn2): BatchNorm2d(64, eps=1e-05, momentum=0.1, affine=True, track_running_stats=True)\n",
      "      (conv3): Conv2d(64, 256, kernel_size=(1, 1), stride=(1, 1), bias=False)\n",
      "      (bn3): BatchNorm2d(256, eps=1e-05, momentum=0.1, affine=True, track_running_stats=True)\n",
      "      (relu): ReLU(inplace=True)\n",
      "      (downsample): Sequential(\n",
      "        (0): Conv2d(1, 256, kernel_size=(1, 1), stride=(1, 1), bias=False)\n",
      "        (1): BatchNorm2d(256, eps=1e-05, momentum=0.1, affine=True, track_running_stats=True)\n",
      "      )\n",
      "    )\n",
      "    (1): Bottleneck(\n",
      "      (conv1): Conv2d(256, 64, kernel_size=(1, 1), stride=(1, 1), bias=False)\n",
      "      (bn1): BatchNorm2d(64, eps=1e-05, momentum=0.1, affine=True, track_running_stats=True)\n",
      "      (conv2): Conv2d(64, 64, kernel_size=(3, 3), stride=(1, 1), padding=(1, 1), bias=False)\n",
      "      (bn2): BatchNorm2d(64, eps=1e-05, momentum=0.1, affine=True, track_running_stats=True)\n",
      "      (conv3): Conv2d(64, 256, kernel_size=(1, 1), stride=(1, 1), bias=False)\n",
      "      (bn3): BatchNorm2d(256, eps=1e-05, momentum=0.1, affine=True, track_running_stats=True)\n",
      "      (relu): ReLU(inplace=True)\n",
      "    )\n",
      "    (2): Bottleneck(\n",
      "      (conv1): Conv2d(256, 64, kernel_size=(1, 1), stride=(1, 1), bias=False)\n",
      "      (bn1): BatchNorm2d(64, eps=1e-05, momentum=0.1, affine=True, track_running_stats=True)\n",
      "      (conv2): Conv2d(64, 64, kernel_size=(3, 3), stride=(1, 1), padding=(1, 1), bias=False)\n",
      "      (bn2): BatchNorm2d(64, eps=1e-05, momentum=0.1, affine=True, track_running_stats=True)\n",
      "      (conv3): Conv2d(64, 256, kernel_size=(1, 1), stride=(1, 1), bias=False)\n",
      "      (bn3): BatchNorm2d(256, eps=1e-05, momentum=0.1, affine=True, track_running_stats=True)\n",
      "      (relu): ReLU(inplace=True)\n",
      "    )\n",
      "  )\n",
      "  (layer2): Sequential(\n",
      "    (0): Bottleneck(\n",
      "      (conv1): Conv2d(256, 128, kernel_size=(1, 1), stride=(1, 1), bias=False)\n",
      "      (bn1): BatchNorm2d(128, eps=1e-05, momentum=0.1, affine=True, track_running_stats=True)\n",
      "      (conv2): Conv2d(128, 128, kernel_size=(3, 3), stride=(2, 2), padding=(1, 1), bias=False)\n",
      "      (bn2): BatchNorm2d(128, eps=1e-05, momentum=0.1, affine=True, track_running_stats=True)\n",
      "      (conv3): Conv2d(128, 512, kernel_size=(1, 1), stride=(1, 1), bias=False)\n",
      "      (bn3): BatchNorm2d(512, eps=1e-05, momentum=0.1, affine=True, track_running_stats=True)\n",
      "      (relu): ReLU(inplace=True)\n",
      "      (downsample): Sequential(\n",
      "        (0): Conv2d(256, 512, kernel_size=(1, 1), stride=(2, 2), bias=False)\n",
      "        (1): BatchNorm2d(512, eps=1e-05, momentum=0.1, affine=True, track_running_stats=True)\n",
      "      )\n",
      "    )\n",
      "    (1): Bottleneck(\n",
      "      (conv1): Conv2d(512, 128, kernel_size=(1, 1), stride=(1, 1), bias=False)\n",
      "      (bn1): BatchNorm2d(128, eps=1e-05, momentum=0.1, affine=True, track_running_stats=True)\n",
      "      (conv2): Conv2d(128, 128, kernel_size=(3, 3), stride=(1, 1), padding=(1, 1), bias=False)\n",
      "      (bn2): BatchNorm2d(128, eps=1e-05, momentum=0.1, affine=True, track_running_stats=True)\n",
      "      (conv3): Conv2d(128, 512, kernel_size=(1, 1), stride=(1, 1), bias=False)\n",
      "      (bn3): BatchNorm2d(512, eps=1e-05, momentum=0.1, affine=True, track_running_stats=True)\n",
      "      (relu): ReLU(inplace=True)\n",
      "    )\n",
      "    (2): Bottleneck(\n",
      "      (conv1): Conv2d(512, 128, kernel_size=(1, 1), stride=(1, 1), bias=False)\n",
      "      (bn1): BatchNorm2d(128, eps=1e-05, momentum=0.1, affine=True, track_running_stats=True)\n",
      "      (conv2): Conv2d(128, 128, kernel_size=(3, 3), stride=(1, 1), padding=(1, 1), bias=False)\n",
      "      (bn2): BatchNorm2d(128, eps=1e-05, momentum=0.1, affine=True, track_running_stats=True)\n",
      "      (conv3): Conv2d(128, 512, kernel_size=(1, 1), stride=(1, 1), bias=False)\n",
      "      (bn3): BatchNorm2d(512, eps=1e-05, momentum=0.1, affine=True, track_running_stats=True)\n",
      "      (relu): ReLU(inplace=True)\n",
      "    )\n",
      "    (3): Bottleneck(\n",
      "      (conv1): Conv2d(512, 128, kernel_size=(1, 1), stride=(1, 1), bias=False)\n",
      "      (bn1): BatchNorm2d(128, eps=1e-05, momentum=0.1, affine=True, track_running_stats=True)\n",
      "      (conv2): Conv2d(128, 128, kernel_size=(3, 3), stride=(1, 1), padding=(1, 1), bias=False)\n",
      "      (bn2): BatchNorm2d(128, eps=1e-05, momentum=0.1, affine=True, track_running_stats=True)\n",
      "      (conv3): Conv2d(128, 512, kernel_size=(1, 1), stride=(1, 1), bias=False)\n",
      "      (bn3): BatchNorm2d(512, eps=1e-05, momentum=0.1, affine=True, track_running_stats=True)\n",
      "      (relu): ReLU(inplace=True)\n",
      "    )\n",
      "  )\n",
      "  (layer3): Sequential(\n",
      "    (0): Bottleneck(\n",
      "      (conv1): Conv2d(512, 256, kernel_size=(1, 1), stride=(1, 1), bias=False)\n",
      "      (bn1): BatchNorm2d(256, eps=1e-05, momentum=0.1, affine=True, track_running_stats=True)\n",
      "      (conv2): Conv2d(256, 256, kernel_size=(3, 3), stride=(2, 2), padding=(1, 1), bias=False)\n",
      "      (bn2): BatchNorm2d(256, eps=1e-05, momentum=0.1, affine=True, track_running_stats=True)\n",
      "      (conv3): Conv2d(256, 1024, kernel_size=(1, 1), stride=(1, 1), bias=False)\n",
      "      (bn3): BatchNorm2d(1024, eps=1e-05, momentum=0.1, affine=True, track_running_stats=True)\n",
      "      (relu): ReLU(inplace=True)\n",
      "      (downsample): Sequential(\n",
      "        (0): Conv2d(512, 1024, kernel_size=(1, 1), stride=(2, 2), bias=False)\n",
      "        (1): BatchNorm2d(1024, eps=1e-05, momentum=0.1, affine=True, track_running_stats=True)\n",
      "      )\n",
      "    )\n",
      "    (1): Bottleneck(\n",
      "      (conv1): Conv2d(1024, 256, kernel_size=(1, 1), stride=(1, 1), bias=False)\n",
      "      (bn1): BatchNorm2d(256, eps=1e-05, momentum=0.1, affine=True, track_running_stats=True)\n",
      "      (conv2): Conv2d(256, 256, kernel_size=(3, 3), stride=(1, 1), padding=(1, 1), bias=False)\n",
      "      (bn2): BatchNorm2d(256, eps=1e-05, momentum=0.1, affine=True, track_running_stats=True)\n",
      "      (conv3): Conv2d(256, 1024, kernel_size=(1, 1), stride=(1, 1), bias=False)\n",
      "      (bn3): BatchNorm2d(1024, eps=1e-05, momentum=0.1, affine=True, track_running_stats=True)\n",
      "      (relu): ReLU(inplace=True)\n",
      "    )\n",
      "    (2): Bottleneck(\n",
      "      (conv1): Conv2d(1024, 256, kernel_size=(1, 1), stride=(1, 1), bias=False)\n",
      "      (bn1): BatchNorm2d(256, eps=1e-05, momentum=0.1, affine=True, track_running_stats=True)\n",
      "      (conv2): Conv2d(256, 256, kernel_size=(3, 3), stride=(1, 1), padding=(1, 1), bias=False)\n",
      "      (bn2): BatchNorm2d(256, eps=1e-05, momentum=0.1, affine=True, track_running_stats=True)\n",
      "      (conv3): Conv2d(256, 1024, kernel_size=(1, 1), stride=(1, 1), bias=False)\n",
      "      (bn3): BatchNorm2d(1024, eps=1e-05, momentum=0.1, affine=True, track_running_stats=True)\n",
      "      (relu): ReLU(inplace=True)\n",
      "    )\n",
      "    (3): Bottleneck(\n",
      "      (conv1): Conv2d(1024, 256, kernel_size=(1, 1), stride=(1, 1), bias=False)\n",
      "      (bn1): BatchNorm2d(256, eps=1e-05, momentum=0.1, affine=True, track_running_stats=True)\n",
      "      (conv2): Conv2d(256, 256, kernel_size=(3, 3), stride=(1, 1), padding=(1, 1), bias=False)\n",
      "      (bn2): BatchNorm2d(256, eps=1e-05, momentum=0.1, affine=True, track_running_stats=True)\n",
      "      (conv3): Conv2d(256, 1024, kernel_size=(1, 1), stride=(1, 1), bias=False)\n",
      "      (bn3): BatchNorm2d(1024, eps=1e-05, momentum=0.1, affine=True, track_running_stats=True)\n",
      "      (relu): ReLU(inplace=True)\n",
      "    )\n",
      "    (4): Bottleneck(\n",
      "      (conv1): Conv2d(1024, 256, kernel_size=(1, 1), stride=(1, 1), bias=False)\n",
      "      (bn1): BatchNorm2d(256, eps=1e-05, momentum=0.1, affine=True, track_running_stats=True)\n",
      "      (conv2): Conv2d(256, 256, kernel_size=(3, 3), stride=(1, 1), padding=(1, 1), bias=False)\n",
      "      (bn2): BatchNorm2d(256, eps=1e-05, momentum=0.1, affine=True, track_running_stats=True)\n",
      "      (conv3): Conv2d(256, 1024, kernel_size=(1, 1), stride=(1, 1), bias=False)\n",
      "      (bn3): BatchNorm2d(1024, eps=1e-05, momentum=0.1, affine=True, track_running_stats=True)\n",
      "      (relu): ReLU(inplace=True)\n",
      "    )\n",
      "    (5): Bottleneck(\n",
      "      (conv1): Conv2d(1024, 256, kernel_size=(1, 1), stride=(1, 1), bias=False)\n",
      "      (bn1): BatchNorm2d(256, eps=1e-05, momentum=0.1, affine=True, track_running_stats=True)\n",
      "      (conv2): Conv2d(256, 256, kernel_size=(3, 3), stride=(1, 1), padding=(1, 1), bias=False)\n",
      "      (bn2): BatchNorm2d(256, eps=1e-05, momentum=0.1, affine=True, track_running_stats=True)\n",
      "      (conv3): Conv2d(256, 1024, kernel_size=(1, 1), stride=(1, 1), bias=False)\n",
      "      (bn3): BatchNorm2d(1024, eps=1e-05, momentum=0.1, affine=True, track_running_stats=True)\n",
      "      (relu): ReLU(inplace=True)\n",
      "    )\n",
      "  )\n",
      "  (layer4): Sequential(\n",
      "    (0): Bottleneck(\n",
      "      (conv1): Conv2d(1024, 512, kernel_size=(1, 1), stride=(1, 1), bias=False)\n",
      "      (bn1): BatchNorm2d(512, eps=1e-05, momentum=0.1, affine=True, track_running_stats=True)\n",
      "      (conv2): Conv2d(512, 512, kernel_size=(3, 3), stride=(2, 2), padding=(1, 1), bias=False)\n",
      "      (bn2): BatchNorm2d(512, eps=1e-05, momentum=0.1, affine=True, track_running_stats=True)\n",
      "      (conv3): Conv2d(512, 2048, kernel_size=(1, 1), stride=(1, 1), bias=False)\n",
      "      (bn3): BatchNorm2d(2048, eps=1e-05, momentum=0.1, affine=True, track_running_stats=True)\n",
      "      (relu): ReLU(inplace=True)\n",
      "      (downsample): Sequential(\n",
      "        (0): Conv2d(1024, 2048, kernel_size=(1, 1), stride=(2, 2), bias=False)\n",
      "        (1): BatchNorm2d(2048, eps=1e-05, momentum=0.1, affine=True, track_running_stats=True)\n",
      "      )\n",
      "    )\n",
      "    (1): Bottleneck(\n",
      "      (conv1): Conv2d(2048, 512, kernel_size=(1, 1), stride=(1, 1), bias=False)\n",
      "      (bn1): BatchNorm2d(512, eps=1e-05, momentum=0.1, affine=True, track_running_stats=True)\n",
      "      (conv2): Conv2d(512, 512, kernel_size=(3, 3), stride=(1, 1), padding=(1, 1), bias=False)\n",
      "      (bn2): BatchNorm2d(512, eps=1e-05, momentum=0.1, affine=True, track_running_stats=True)\n",
      "      (conv3): Conv2d(512, 2048, kernel_size=(1, 1), stride=(1, 1), bias=False)\n",
      "      (bn3): BatchNorm2d(2048, eps=1e-05, momentum=0.1, affine=True, track_running_stats=True)\n",
      "      (relu): ReLU(inplace=True)\n",
      "    )\n",
      "    (2): Bottleneck(\n",
      "      (conv1): Conv2d(2048, 512, kernel_size=(1, 1), stride=(1, 1), bias=False)\n",
      "      (bn1): BatchNorm2d(512, eps=1e-05, momentum=0.1, affine=True, track_running_stats=True)\n",
      "      (conv2): Conv2d(512, 512, kernel_size=(3, 3), stride=(1, 1), padding=(1, 1), bias=False)\n",
      "      (bn2): BatchNorm2d(512, eps=1e-05, momentum=0.1, affine=True, track_running_stats=True)\n",
      "      (conv3): Conv2d(512, 2048, kernel_size=(1, 1), stride=(1, 1), bias=False)\n",
      "      (bn3): BatchNorm2d(2048, eps=1e-05, momentum=0.1, affine=True, track_running_stats=True)\n",
      "      (relu): ReLU(inplace=True)\n",
      "    )\n",
      "  )\n",
      "  (avgpool): AdaptiveAvgPool2d(output_size=(1, 1))\n",
      "  (fc1): Linear(in_features=2048, out_features=1024, bias=True)\n",
      "  (fc2): Linear(in_features=1024, out_features=512, bias=True)\n",
      "  (fc3): Linear(in_features=512, out_features=128, bias=True)\n",
      "  (fc4): Linear(in_features=128, out_features=1, bias=True)\n",
      ")\n"
     ]
    }
   ],
   "source": [
    "# 输入输出的数据维度，这里都是1维\n",
    "INPUT_FEATURE_DIM = 5000\n",
    "# 隐含层中神经元的个数\n",
    "#NEURON_NUM = 500\n",
    "#OUTPUT_FEATURE_DIM = 1\n",
    "# 学习率，越大学的越快，但也容易造成不稳定，准确率上下波动的情况\n",
    "LEARNING_RATE = 0.00025\n",
    "\n",
    "# 定义模型\n",
    "#net = Net()\n",
    "net = ResNet(block=Bottleneck, block_num=[3,4,6,3],num_classes=1)\n",
    "print(net)\n",
    "# 训练网络\n",
    "# 这里也可以使用其它的优化方法\n",
    "optimizer = torch.optim.Adam(net.parameters(), lr=LEARNING_RATE)\n",
    "# 定义一个误差计算方法\n",
    "loss_func = torch.nn.MSELoss()\n",
    "#loss_func = nn.CrossEntropyLoss() #定义交叉熵损失函数 交叉熵损失函数是用来衡量两个概率分布之间的距离的#nn.MSELoss()\n",
    "# Define the loss function with Classification Cross-Entropy loss and an optimizer with Adam optimizer"
   ]
  },
  {
   "cell_type": "markdown",
   "metadata": {
    "collapsed": false,
    "pycharm": {
     "name": "#%% md\n"
    }
   },
   "source": [
    "# main"
   ]
  },
  {
   "cell_type": "code",
   "execution_count": null,
   "metadata": {
    "collapsed": false,
    "pycharm": {
     "name": "#%%\n"
    }
   },
   "outputs": [
    {
     "name": "stdout",
     "output_type": "stream",
     "text": [
      "[1,    10] loss: 1.047\n",
      "[66.27532] and [64.9216]\n",
      "[1,    20] loss: 1.552\n",
      "[26.637756] and [26.624]\n",
      "[1,    30] loss: 2.989\n",
      "[68.25023] and [70.2464]\n",
      "[1,    40] loss: 4.275\n",
      "[44.9032] and [43.8272]\n",
      "[1,    50] loss: 8.854\n",
      "[108.98] and [109.158]\n",
      "[1,    60] loss: 7.796\n",
      "[73.27213] and [74.752]\n",
      "[1,    70] loss: 3.240\n",
      "[71.423225] and [70.8608]\n",
      "[1,    80] loss: 5.254\n",
      "[78.569664] and [76.5952]\n",
      "[1,    90] loss: 1.331\n",
      "[97.77483] and [98.5088]\n",
      "[1,   100] loss: 2.629\n",
      "[98.011665] and [100.147]\n",
      "[1,   110] loss: 1.504\n",
      "[108.83228] and [108.544]\n",
      "[1,   120] loss: 2.895\n",
      "[50.143154] and [53.0432]\n",
      "[1,   130] loss: 1.862\n",
      "[105.626366] and [105.472]\n",
      "[1,   140] loss: 2.749\n",
      "[88.45255] and [87.2448]\n",
      "For epoch 1 the test accuracy over the whole test set is 22 %\n",
      "[2,    10] loss: 3.000\n",
      "[82.611855] and [82.944]\n",
      "[2,    20] loss: 2.863\n",
      "[81.82484] and [84.5824]\n",
      "[2,    30] loss: 3.356\n",
      "[104.384285] and [105.472]\n",
      "[2,    40] loss: 2.606\n",
      "[16.188805] and [19.0464]\n",
      "[2,    50] loss: 7.721\n",
      "[34.41908] and [32.9728]\n",
      "[2,    60] loss: 6.053\n",
      "[108.36604] and [107.52]\n",
      "[2,    70] loss: 8.825\n",
      "[45.25881] and [49.9712]\n",
      "[2,    80] loss: 5.114\n",
      "[54.471066] and [53.248]\n",
      "[2,    90] loss: 7.565\n",
      "[42.322838] and [41.7792]\n",
      "[2,   100] loss: 5.736\n",
      "[43.486553] and [43.8272]\n"
     ]
    },
    {
     "ename": "KeyboardInterrupt",
     "evalue": "",
     "output_type": "error",
     "traceback": [
      "\u001b[1;31m---------------------------------------------------------------------------\u001b[0m",
      "\u001b[1;31mKeyboardInterrupt\u001b[0m                         Traceback (most recent call last)",
      "\u001b[1;32mセル19 を d:\\chen\\Bolt_preload\\hex\\FRCNN-Train-HEX.ipynb\u001b[0m in \u001b[0;36m<cell line: 6>\u001b[1;34m()\u001b[0m\n\u001b[0;32m     <a href='vscode-notebook-cell:/d%3A/chen/Bolt_preload/hex/FRCNN-Train-HEX.ipynb#X21sZmlsZQ%3D%3D?line=9'>10</a>\u001b[0m device \u001b[39m=\u001b[39m torch\u001b[39m.\u001b[39mdevice(\u001b[39m\"\u001b[39m\u001b[39mcuda:0\u001b[39m\u001b[39m\"\u001b[39m \u001b[39mif\u001b[39;00m torch\u001b[39m.\u001b[39mcuda\u001b[39m.\u001b[39mis_available() \u001b[39melse\u001b[39;00m \u001b[39m\"\u001b[39m\u001b[39mcpu\u001b[39m\u001b[39m\"\u001b[39m)\n\u001b[0;32m     <a href='vscode-notebook-cell:/d%3A/chen/Bolt_preload/hex/FRCNN-Train-HEX.ipynb#X21sZmlsZQ%3D%3D?line=10'>11</a>\u001b[0m \u001b[39m#device = torch.device(\"cpu\")\u001b[39;00m\n\u001b[0;32m     <a href='vscode-notebook-cell:/d%3A/chen/Bolt_preload/hex/FRCNN-Train-HEX.ipynb#X21sZmlsZQ%3D%3D?line=11'>12</a>\u001b[0m \u001b[39m# Let's build our model\u001b[39;00m\n\u001b[1;32m---> <a href='vscode-notebook-cell:/d%3A/chen/Bolt_preload/hex/FRCNN-Train-HEX.ipynb#X21sZmlsZQ%3D%3D?line=12'>13</a>\u001b[0m train(\u001b[39m500\u001b[39;49m,device)\n\u001b[0;32m     <a href='vscode-notebook-cell:/d%3A/chen/Bolt_preload/hex/FRCNN-Train-HEX.ipynb#X21sZmlsZQ%3D%3D?line=13'>14</a>\u001b[0m \u001b[39mprint\u001b[39m(\u001b[39m'\u001b[39m\u001b[39mFinished Training\u001b[39m\u001b[39m'\u001b[39m)\n\u001b[0;32m     <a href='vscode-notebook-cell:/d%3A/chen/Bolt_preload/hex/FRCNN-Train-HEX.ipynb#X21sZmlsZQ%3D%3D?line=14'>15</a>\u001b[0m \u001b[39m#Epochごとのlossの保存\u001b[39;00m\n",
      "\u001b[1;32mセル19 を d:\\chen\\Bolt_preload\\hex\\FRCNN-Train-HEX.ipynb\u001b[0m in \u001b[0;36mtrain\u001b[1;34m(num_epochs, device)\u001b[0m\n\u001b[0;32m     <a href='vscode-notebook-cell:/d%3A/chen/Bolt_preload/hex/FRCNN-Train-HEX.ipynb#X21sZmlsZQ%3D%3D?line=62'>63</a>\u001b[0m optimizer\u001b[39m.\u001b[39mzero_grad()\n\u001b[0;32m     <a href='vscode-notebook-cell:/d%3A/chen/Bolt_preload/hex/FRCNN-Train-HEX.ipynb#X21sZmlsZQ%3D%3D?line=63'>64</a>\u001b[0m \u001b[39m# 误差反向传播\u001b[39;00m\n\u001b[1;32m---> <a href='vscode-notebook-cell:/d%3A/chen/Bolt_preload/hex/FRCNN-Train-HEX.ipynb#X21sZmlsZQ%3D%3D?line=64'>65</a>\u001b[0m loss\u001b[39m.\u001b[39;49mbackward()\n\u001b[0;32m     <a href='vscode-notebook-cell:/d%3A/chen/Bolt_preload/hex/FRCNN-Train-HEX.ipynb#X21sZmlsZQ%3D%3D?line=65'>66</a>\u001b[0m \u001b[39m# 按照最小loss优化参数\u001b[39;00m\n\u001b[0;32m     <a href='vscode-notebook-cell:/d%3A/chen/Bolt_preload/hex/FRCNN-Train-HEX.ipynb#X21sZmlsZQ%3D%3D?line=66'>67</a>\u001b[0m optimizer\u001b[39m.\u001b[39mstep()\n",
      "File \u001b[1;32mc:\\Users\\brdgadmin\\anaconda3\\envs\\frcnn\\lib\\site-packages\\torch\\_tensor.py:396\u001b[0m, in \u001b[0;36mTensor.backward\u001b[1;34m(self, gradient, retain_graph, create_graph, inputs)\u001b[0m\n\u001b[0;32m    387\u001b[0m \u001b[39mif\u001b[39;00m has_torch_function_unary(\u001b[39mself\u001b[39m):\n\u001b[0;32m    388\u001b[0m     \u001b[39mreturn\u001b[39;00m handle_torch_function(\n\u001b[0;32m    389\u001b[0m         Tensor\u001b[39m.\u001b[39mbackward,\n\u001b[0;32m    390\u001b[0m         (\u001b[39mself\u001b[39m,),\n\u001b[1;32m   (...)\u001b[0m\n\u001b[0;32m    394\u001b[0m         create_graph\u001b[39m=\u001b[39mcreate_graph,\n\u001b[0;32m    395\u001b[0m         inputs\u001b[39m=\u001b[39minputs)\n\u001b[1;32m--> 396\u001b[0m torch\u001b[39m.\u001b[39;49mautograd\u001b[39m.\u001b[39;49mbackward(\u001b[39mself\u001b[39;49m, gradient, retain_graph, create_graph, inputs\u001b[39m=\u001b[39;49minputs)\n",
      "File \u001b[1;32mc:\\Users\\brdgadmin\\anaconda3\\envs\\frcnn\\lib\\site-packages\\torch\\autograd\\__init__.py:173\u001b[0m, in \u001b[0;36mbackward\u001b[1;34m(tensors, grad_tensors, retain_graph, create_graph, grad_variables, inputs)\u001b[0m\n\u001b[0;32m    168\u001b[0m     retain_graph \u001b[39m=\u001b[39m create_graph\n\u001b[0;32m    170\u001b[0m \u001b[39m# The reason we repeat same the comment below is that\u001b[39;00m\n\u001b[0;32m    171\u001b[0m \u001b[39m# some Python versions print out the first line of a multi-line function\u001b[39;00m\n\u001b[0;32m    172\u001b[0m \u001b[39m# calls in the traceback and some print out the last line\u001b[39;00m\n\u001b[1;32m--> 173\u001b[0m Variable\u001b[39m.\u001b[39;49m_execution_engine\u001b[39m.\u001b[39;49mrun_backward(  \u001b[39m# Calls into the C++ engine to run the backward pass\u001b[39;49;00m\n\u001b[0;32m    174\u001b[0m     tensors, grad_tensors_, retain_graph, create_graph, inputs,\n\u001b[0;32m    175\u001b[0m     allow_unreachable\u001b[39m=\u001b[39;49m\u001b[39mTrue\u001b[39;49;00m, accumulate_grad\u001b[39m=\u001b[39;49m\u001b[39mTrue\u001b[39;49;00m)\n",
      "\u001b[1;31mKeyboardInterrupt\u001b[0m: "
     ]
    }
   ],
   "source": [
    " # Vdataiter=iter(valid_loader)\n",
    "# vimg, vlabels = Vdataiter.next()\n",
    "# print(vimg.shape)\n",
    "# print(vlabels.shape)\n",
    "# print(vlabels)\n",
    "if __name__ == \"__main__\":\n",
    "\n",
    "    torch.cuda.empty_cache()\n",
    "\n",
    "    device = torch.device(\"cuda:0\" if torch.cuda.is_available() else \"cpu\")\n",
    "    #device = torch.device(\"cpu\")\n",
    "    # Let's build our model\n",
    "    train(1000,device)\n",
    "    print('Finished Training')\n",
    "    #Epochごとのlossの保存\n",
    "    torch.save(net, 'preloadnet1.pt')\n",
    "\n",
    "    # Test which classes performed well\n",
    "    testAccuracy()\n",
    "\n",
    "    # Let's load the model we just created and test the accuracy per label\n",
    "    # model = net()\n",
    "    # path = \"myFirstModel.pth\"\n",
    "    # model.load_state_dict(torch.load(path))\n",
    "\n",
    "    plt.figure()\n",
    "    predata, labedata = predict(net, device,valid_loader)#valid\n",
    "    plt.xlim(0,120)\n",
    "    plt.ylim(0,120)\n",
    "    plt.scatter(predata.data.cpu().numpy(),labedata.data.cpu().numpy())\n",
    "    plt.plot(train_label.data.numpy(), train_label.data.numpy(), c='Red', lw='3')\n"
   ]
  },
  {
   "cell_type": "code",
   "execution_count": null,
   "metadata": {
    "collapsed": false,
    "pycharm": {
     "name": "#%%\n"
    }
   },
   "outputs": [],
   "source": [
    "device = torch.device(\"cuda:0\" if torch.cuda.is_available() else \"cpu\")\n",
    "print(device)"
   ]
  },
  {
   "cell_type": "code",
   "execution_count": null,
   "metadata": {
    "collapsed": false,
    "pycharm": {
     "name": "#%%\n"
    }
   },
   "outputs": [],
   "source": [
    "def testAccuracy():\n",
    "\n",
    "    net.eval()\n",
    "    accuracy = 0.0\n",
    "    total = 0.0\n",
    "    error = 0.0\n",
    "    device = torch.device(\"cuda:0\" if torch.cuda.is_available() else \"cpu\")\n",
    "    #device = torch.device(\"cpu\")\n",
    "\n",
    "    with torch.no_grad():\n",
    "        for data in valid_loader:\n",
    "            images, labels = data\n",
    "            images, labels = images.to(device), labels.to(device)\n",
    "            # run the model on the test set to predict labels\n",
    "            outputs = net(images)\n",
    "            # the label with the highest energy will be our prediction\n",
    "            _, predicted = torch.max(outputs.data, 1)\n",
    "            error += (predicted - labels)/labels\n",
    "            total += labels.size(0)\n",
    "            accuracy += (predicted == labels).sum().item()\n",
    "\n",
    "    # compute the accuracy over all test images\n",
    "    accuracy = (100 * accuracy / total)\n",
    "    error = (100* error / total)\n",
    "    return(error)"
   ]
  },
  {
   "cell_type": "code",
   "execution_count": null,
   "metadata": {
    "collapsed": false,
    "pycharm": {
     "name": "#%%\n"
    }
   },
   "outputs": [],
   "source": [
    "net.eval()\n",
    "accuracy = 0.0\n",
    "total = 0.0\n",
    "error = 0.0\n",
    "device = torch.device(\"cuda:0\" if torch.cuda.is_available() else \"cpu\")\n",
    "#device = torch.device(\"cpu\")\n",
    "\n",
    "with torch.no_grad():\n",
    "    for data in valid_loader:\n",
    "        images, labels = data\n",
    "        images, labels = images.to(device), labels.to(device)\n",
    "        # run the model on the test set to predict labels\n",
    "        outputs = net(images)\n",
    "        # the label with the highest energy will be our prediction\n",
    "        predicted, _ = torch.max(outputs.data, 1)\n",
    "        error += abs(predicted - labels)/labels\n",
    "        total += labels.size(0)\n",
    "        accuracy += (predicted == labels).sum().item()\n",
    "\n",
    "# compute the accuracy over all test images\n",
    "accuracy = (100 * accuracy / total)\n",
    "error = (100* error / total)\n",
    "error = np.round(error[0][0].data.cpu().numpy(),2)\n",
    "print(error)"
   ]
  },
  {
   "cell_type": "code",
   "execution_count": null,
   "metadata": {
    "collapsed": false,
    "pycharm": {
     "name": "#%%\n"
    }
   },
   "outputs": [],
   "source": []
  },
  {
   "cell_type": "markdown",
   "metadata": {
    "collapsed": false,
    "pycharm": {
     "name": "#%% md\n"
    }
   },
   "source": [
    "# Visualization"
   ]
  },
  {
   "cell_type": "code",
   "execution_count": null,
   "metadata": {
    "collapsed": false,
    "pycharm": {
     "name": "#%%\n"
    }
   },
   "outputs": [],
   "source": [
    "x=[]\n",
    "y=[]\n",
    "np.array(x)\n",
    "np.array(y)\n",
    "# net=torch.load('')\n",
    "device = torch.device(\"cuda:0\" if torch.cuda.is_available() else \"cpu\")\n",
    "for i, (images, labels) in enumerate(valid_loader, 0):\n",
    "    #images, labels = dataiter.next()\n",
    "    # 输入数据进行预测\n",
    "    # get the inputs\n",
    "    images = Variable(images.to(device))\n",
    "    labels = Variable(labels.to(device))\n",
    "    predata = net(images)\n",
    "    #predata, labedata = predict(net, valid_loader)\n",
    "    loss=loss_func(predata, labels)\n",
    "    loss += loss.item()\n",
    "    x=np.append(x,[i[0] for i in labels.data.cpu().numpy()])\n",
    "    y=np.append(y,np.array([i[0] for i in predata.data.cpu().numpy()]))\n",
    "    preloss=loss/(i+1)\n",
    "\n",
    "x0=x\n",
    "y0=y"
   ]
  },
  {
   "cell_type": "code",
   "execution_count": null,
   "metadata": {
    "collapsed": false,
    "pycharm": {
     "name": "#%%\n"
    }
   },
   "outputs": [
    {
     "name": "stdout",
     "output_type": "stream",
     "text": [
      "[  0.           1.00840336   2.01680672   3.02521008   4.03361345\n",
      "   5.04201681   6.05042017   7.05882353   8.06722689   9.07563025\n",
      "  10.08403361  11.09243697  12.10084034  13.1092437   14.11764706\n",
      "  15.12605042  16.13445378  17.14285714  18.1512605   19.15966387\n",
      "  20.16806723  21.17647059  22.18487395  23.19327731  24.20168067\n",
      "  25.21008403  26.21848739  27.22689076  28.23529412  29.24369748\n",
      "  30.25210084  31.2605042   32.26890756  33.27731092  34.28571429\n",
      "  35.29411765  36.30252101  37.31092437  38.31932773  39.32773109\n",
      "  40.33613445  41.34453782  42.35294118  43.36134454  44.3697479\n",
      "  45.37815126  46.38655462  47.39495798  48.40336134  49.41176471\n",
      "  50.42016807  51.42857143  52.43697479  53.44537815  54.45378151\n",
      "  55.46218487  56.47058824  57.4789916   58.48739496  59.49579832\n",
      "  60.50420168  61.51260504  62.5210084   63.52941176  64.53781513\n",
      "  65.54621849  66.55462185  67.56302521  68.57142857  69.57983193\n",
      "  70.58823529  71.59663866  72.60504202  73.61344538  74.62184874\n",
      "  75.6302521   76.63865546  77.64705882  78.65546218  79.66386555\n",
      "  80.67226891  81.68067227  82.68907563  83.69747899  84.70588235\n",
      "  85.71428571  86.72268908  87.73109244  88.7394958   89.74789916\n",
      "  90.75630252  91.76470588  92.77310924  93.78151261  94.78991597\n",
      "  95.79831933  96.80672269  97.81512605  98.82352941  99.83193277\n",
      " 100.84033613 101.8487395  102.85714286 103.86554622 104.87394958\n",
      " 105.88235294 106.8907563  107.89915966 108.90756303 109.91596639\n",
      " 110.92436975 111.93277311 112.94117647 113.94957983 114.95798319\n",
      " 115.96638655 116.97478992 117.98319328 118.99159664 120.        ]\n",
      "Optimal Values\n",
      "a: 1.000000000000027\n",
      "b: -2.180989495330664e-12\n",
      "R^2: 0.8769462817941377\n",
      "testdataNum:28\n",
      "preloss:tensor(0.6061, device='cuda:0', grad_fn=<DivBackward0>)\n"
     ]
    },
    {
     "data": {
      "image/png": "[encoded data removed]",
      "text/plain": [
       "<Figure size 432x288 with 1 Axes>"
      ]
     },
     "metadata": {
      "needs_background": "light"
     },
     "output_type": "display_data"
    }
   ],
   "source": [
    "\n",
    "x=np.linspace(0,120,120)\n",
    "y=np.linspace(0,120,120)\n",
    "\n",
    "from scipy.optimize import curve_fit\n",
    "from scipy import stats\n",
    "import uncertainties.unumpy as unp\n",
    "import uncertainties as unc\n",
    "\n",
    "plt.figure()\n",
    "\n",
    "plt.xlim(0,120)\n",
    "plt.ylim(0,120)\n",
    "y_err1=1.1*train_label.data.cpu().numpy()\n",
    "y_err2=0.9*train_label.data.cpu().numpy()\n",
    "n = len(y)\n",
    "\n",
    "print(x)\n",
    "\n",
    "\n",
    "def f(x, a, b):\n",
    "    return np.multiply(a, x) + b\n",
    "popt, pcov = curve_fit(f, x, y)\n",
    "\n",
    "# retrieve parameter values\n",
    "a = popt[0]\n",
    "b = popt[1]\n",
    "print('Optimal Values')\n",
    "print('a: ' + str(a))\n",
    "print('b: ' + str(b))\n",
    "\n",
    "# compute r^2\n",
    "r2 = 1.0-(sum((y0-f(x0,a,b))**2.0)/((n-1.0)*np.var(y,ddof=1)))\n",
    "print('R^2: ' + str(r2))\n",
    "print('testdataNum:' + str(i+1))\n",
    "print('preloss:' + str(preloss))\n",
    "\n",
    "# plot data\n",
    "\n",
    "plt.scatter(x0,y0,alpha=0.5, label='Data')\n",
    "\n",
    "# calculate regression confidence interval\n",
    "px=np.linspace(0,120,120)\n",
    "py=a*px+b\n",
    "nom = unp.nominal_values(py)\n",
    "std = unp.std_devs(py)\n",
    "\n",
    "def predband(x, xd, yd, p, func, conf=0.95):\n",
    "    # x = requested points\n",
    "    # xd = x data\n",
    "    # yd = y data\n",
    "    # p = parameters\n",
    "    # func = function name\n",
    "    alpha = 1.0 - conf    # significance\n",
    "    N = xd.size          # data sample size\n",
    "    var_n = len(p)  # number of parameters\n",
    "    # Quantile of Student's t distribution for p=(1-alpha/2)\n",
    "    q = stats.t.ppf(1.0 - alpha / 2.0, N - var_n)\n",
    "    # Stdev of an individual measurement\n",
    "    se = np.sqrt(1. / (N - var_n) * \\\n",
    "                 np.sum((yd - func(xd, *p)) ** 2))\n",
    "    # Auxiliary definitions\n",
    "    sx = (x - xd.mean()) ** 2\n",
    "    sxd = np.sum((xd - xd.mean()) ** 2)\n",
    "    # Predicted values (best-fit model)\n",
    "    yp = func(x, *p)\n",
    "    # Prediction band\n",
    "    dy = q * se * np.sqrt(1.0+ (1.0/N) + (sx/sxd))\n",
    "    # Upper & lower prediction bands.\n",
    "    lpb, upb = yp - dy, yp + dy\n",
    "    return lpb, upb\n",
    "\n",
    "#plt.fill_between(df['temperature'], predictions['obs_ci_lower'], predictions['obs_ci_upper'], alpha=.1, label='Prediction interval')\n",
    "# prediction band (95% confidence)\n",
    "\n",
    "# plot the regression\n",
    "plt.plot(px, nom, c='black', label='y=a x + b')\n",
    "\n",
    "# # uncertainty lines (95% confidence)\n",
    "# plt.plot(px, nom - 1.96 * std, c='orange',\\\n",
    "#          label='95% Confidence Region')\n",
    "# plt.plot(px, nom + 1.96 * std, c='orange')\n",
    "\n",
    "lpb, upb = predband(px, x0, y0, popt, f, conf=0.95)\n",
    "\n",
    "lpb=[x+25 for x in px]\n",
    "upb=[x-25 for x in px]\n",
    "\n",
    "plt.plot(px, lpb, 'k--',label='95% Prediction Band')\n",
    "plt.plot(px, upb, 'k--')\n",
    "plt.fill_between(px,lpb,upb, alpha=.1, label='Prediction interval')\n",
    "plt.plot(train_label.data.numpy(), train_label.data.numpy(), c='Red')\n",
    "\n",
    "plt.legend(loc='best')\n",
    "plt.xlabel('Label data',fontsize=16)\n",
    "plt.ylabel('Prediction data',fontsize=16)\n",
    "text='$R^2$: {:.2f}'.format(r2)\n",
    "#plt.text(180,20,text)\n",
    "plt.savefig('predictpreload.png', dpi=1200)\n",
    "plt.show()"
   ]
  },
  {
   "cell_type": "code",
   "execution_count": null,
   "metadata": {
    "collapsed": false,
    "pycharm": {
     "name": "#%%\n"
    }
   },
   "outputs": [],
   "source": []
  }
 ],
 "metadata": {
  "kernelspec": {
   "display_name": "Python 3.10.4 ('frcnn')",
   "language": "python",
   "name": "python3"
  },
  "language_info": {
   "codemirror_mode": {
    "name": "ipython",
    "version": 3
   },
   "file_extension": ".py",
   "mimetype": "text/x-python",
   "name": "python",
   "nbconvert_exporter": "python",
   "pygments_lexer": "ipython3",
   "version": "3.10.4"
  },
  "vscode": {
   "interpreter": {
    "hash": "498860a71f9fc3a2bcb8641546bed63a03c71d2216a7963e015dcc8022348260"
   }
  }
 },
 "nbformat": 4,
 "nbformat_minor": 0
}
